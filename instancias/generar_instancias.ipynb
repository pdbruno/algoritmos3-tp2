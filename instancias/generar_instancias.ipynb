{
 "cells": [
  {
   "cell_type": "code",
   "execution_count": 1,
   "source": [
    "import os\n",
    "import re\n",
    "import random\n",
    "import numpy as np"
   ],
   "outputs": [],
   "metadata": {}
  },
  {
   "cell_type": "code",
   "execution_count": 2,
   "source": [
    "def generar_instancia(tamanio_instancia, archivo_salida):\n",
    "    salida = open(archivo_salida,'w')\n",
    "\n",
    "    print(tamanio_instancia,int(tamanio_instancia - 1 * tamanio_instancia / 2), file=salida)\n",
    "    product = ((i, j) for i in np.arange(tamanio_instancia) for j in np.arange(tamanio_instancia))\n",
    "    for u,v in product:\n",
    "        if u<v:\n",
    "            print(u,v,random.randint(1, 100), file=salida)\n",
    "            \n",
    "\n",
    "def menos_de_500(filename):\n",
    "    return int(re.findall(r'\\d+', filename)[0]) <= 500\n"
   ],
   "outputs": [],
   "metadata": {}
  },
  {
   "cell_type": "code",
   "execution_count": 5,
   "source": [
    "grafo = generar_instancia(tamanio_instancia=10, archivo_salida='./nuestro100.txt')"
   ],
   "outputs": [],
   "metadata": {}
  },
  {
   "cell_type": "code",
   "execution_count": 3,
   "source": [
    "for tamanio in range(1, 100):\n",
    "    generar_instancia(tamanio_instancia=50, archivo_salida=f'./nuestras/nuestro50-{tamanio}.txt')"
   ],
   "outputs": [],
   "metadata": {}
  }
 ],
 "metadata": {
  "interpreter": {
   "hash": "8932031cf73a8e410f3edc8e8ac179c9fba9335faf5d1d5aae65c3865f890a7e"
  },
  "kernelspec": {
   "name": "python3",
   "display_name": "Python 3.6.5 64-bit ('tp2': conda)"
  },
  "language_info": {
   "codemirror_mode": {
    "name": "ipython",
    "version": 3
   },
   "file_extension": ".py",
   "mimetype": "text/x-python",
   "name": "python",
   "nbconvert_exporter": "python",
   "pygments_lexer": "ipython3",
   "version": "3.6.5"
  }
 },
 "nbformat": 4,
 "nbformat_minor": 4
}