{
 "cells": [
  {
   "cell_type": "code",
   "execution_count": 1,
   "source": [
    "import tsplib95 as tl"
   ],
   "outputs": [],
   "metadata": {}
  },
  {
   "cell_type": "code",
   "execution_count": 2,
   "source": [
    "def generar_instancia(archivo_entrada, archivo_salida):\n",
    "    prob = tl.load(archivo_entrada)\n",
    "    salida = open(archivo_salida,'w')\n",
    "\n",
    "    grafo = prob.get_graph()\n",
    "\n",
    "    print(grafo.number_of_nodes(),grafo.number_of_edges(), file=salida)\n",
    "    for u,v in grafo.edges:\n",
    "        if u<v:\n",
    "            print(u,v,grafo.get_edge_data(u,v)['weight'], file=salida)\n",
    "            \n",
    "    return grafo"
   ],
   "outputs": [],
   "metadata": {}
  },
  {
   "cell_type": "code",
   "execution_count": 4,
   "source": [
    "grafo = generar_instancia(archivo_entrada='./gr17.tsp.txt' , archivo_salida='./gr17.txt')"
   ],
   "outputs": [],
   "metadata": {}
  }
 ],
 "metadata": {
  "kernelspec": {
   "name": "python3",
   "display_name": "Python 3.8.5 64-bit ('base': conda)"
  },
  "language_info": {
   "codemirror_mode": {
    "name": "ipython",
    "version": 3
   },
   "file_extension": ".py",
   "mimetype": "text/x-python",
   "name": "python",
   "nbconvert_exporter": "python",
   "pygments_lexer": "ipython3",
   "version": "3.8.5"
  },
  "interpreter": {
   "hash": "718222cd83a5fdc412f1a164e70c6c5f8256269bbf19ceb4b2f4f3335bd2091e"
  }
 },
 "nbformat": 4,
 "nbformat_minor": 4
}