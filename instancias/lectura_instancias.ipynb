{
 "cells": [
  {
   "cell_type": "code",
   "execution_count": 14,
   "source": [
    "import tsplib95 as tl\n",
    "import os\n",
    "import re"
   ],
   "outputs": [],
   "metadata": {}
  },
  {
   "cell_type": "code",
   "execution_count": 15,
   "source": [
    "def generar_instancia(archivo_entrada, archivo_salida):\n",
    "    prob = tl.load(archivo_entrada)\n",
    "    salida = open(archivo_salida,'w')\n",
    "\n",
    "    grafo = prob.get_graph()\n",
    "\n",
    "    print(grafo.number_of_nodes(),grafo.number_of_edges() - 1, file=salida)\n",
    "    for u,v in grafo.edges:\n",
    "        if u<v:\n",
    "            print(u,v,grafo.get_edge_data(u,v)['weight'], file=salida)\n",
    "            \n",
    "    return grafo\n",
    "\n",
    "def menos_de_500(filename):\n",
    "    return int(re.findall(r'\\d+', filename)[0]) <= 500\n"
   ],
   "outputs": [],
   "metadata": {}
  },
  {
   "cell_type": "code",
   "execution_count": 16,
   "source": [
    "grafo = generar_instancia(archivo_entrada='./swiss42.tsp.txt' , archivo_salida='./swiss42.txt')"
   ],
   "outputs": [],
   "metadata": {}
  },
  {
   "cell_type": "code",
   "execution_count": 17,
   "source": [
    "directory = os.fsencode('./')\n",
    "    \n",
    "for file in os.listdir(directory):\n",
    "     filename = os.fsdecode(file)\n",
    "     if filename.endswith(\".tsp.txt\") and menos_de_500(filename): \n",
    "         generar_instancia(archivo_entrada='./' + filename , archivo_salida='./parseadas/' + filename.replace('.tsp', ''))\n"
   ],
   "outputs": [],
   "metadata": {}
  }
 ],
 "metadata": {
  "interpreter": {
   "hash": "718222cd83a5fdc412f1a164e70c6c5f8256269bbf19ceb4b2f4f3335bd2091e"
  },
  "kernelspec": {
   "name": "python3",
   "display_name": "Python 3.8.5 64-bit ('base': conda)"
  },
  "language_info": {
   "codemirror_mode": {
    "name": "ipython",
    "version": 3
   },
   "file_extension": ".py",
   "mimetype": "text/x-python",
   "name": "python",
   "nbconvert_exporter": "python",
   "pygments_lexer": "ipython3",
   "version": "3.8.5"
  }
 },
 "nbformat": 4,
 "nbformat_minor": 4
}