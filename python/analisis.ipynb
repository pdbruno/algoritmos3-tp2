{
 "cells": [
  {
   "cell_type": "code",
   "execution_count": 79,
   "source": [
    "import numpy as np\n",
    "import pandas as pd\n",
    "import seaborn as sns\n",
    "import matplotlib.pyplot as plt\n",
    "from scipy import stats"
   ],
   "outputs": [],
   "metadata": {}
  },
  {
   "cell_type": "code",
   "execution_count": 80,
   "source": [
    "def correlacion_pearson(data_frame, columna1, columna2):\n",
    "    return np.corrcoef(data_frame[columna1], data_frame[columna2])[0,1];\n",
    "\n",
    "def podar(arr, percent):\n",
    "    n = len(arr)\n",
    "    k = int(round(n*(float(percent)/100)/2))\n",
    "    return arr[k+1:n-k]"
   ],
   "outputs": [],
   "metadata": {}
  },
  {
   "cell_type": "markdown",
   "source": [
    "# Experimentos del TP de Subset Sum\n",
    "En esta carpeta de Jupyer vamos a poner lo relativo a realizar la experimentación computacional.\n",
    "- **Asegurarse de correr los experimentos en el notebook Experimentos antes de utilizar este notebook.**\n",
    "- En este archivo se lee el output de los experimentos y se muestra de manera gráfica esos resultados."
   ],
   "metadata": {}
  },
  {
   "cell_type": "markdown",
   "source": [
    "# Datasets\n",
    "Para los experimentos se crean las siguientes familias de instancias para evaluar los distintos métodos.\n",
    "1. **densidad-alta**: Son instancias con n = 1..200 y con densidad alta, es decir, los números de S son altos en comparación con W.\n",
    "2. **densidad-baja**: Son instancias con n = 1..200 y con densidad baja, o sea, se necesitan muchos números de S para sumar W.\n",
    "3. **mejor-caso-BT**: Instancias de mejor caso para el algoritmo de BT con podas.\n",
    "4. **peor-caso-BT**: Instancias de peor caos para el algoritmo de BT con podas.\n",
    "5. **dinamica**: Instancias con n y w variando para probar el algoritmo de PD."
   ],
   "metadata": {}
  },
  {
   "cell_type": "markdown",
   "source": [
    "# Métodos\n",
    "Los métodos evaluados en este notebook son los siguientes:\n",
    "- **FB**: Fuerza Bruta.\n",
    "- **BT**: Backtracking con podas por optimalidad y factibilidad.\n",
    "- **BT-F**: Backtracking solamente con poda por factibilidad.\n",
    "- **BT-B**: Backtracking solamente con poda por optimalidad.\n",
    "- **DP**: Programación dinámica."
   ],
   "metadata": {}
  },
  {
   "cell_type": "markdown",
   "source": [
    "# Experimentos\n",
    "Leemos el dataframe con todos los resultados."
   ],
   "metadata": {}
  },
  {
   "cell_type": "code",
   "execution_count": 81,
   "source": [
    "df_resultados = pd.read_csv(\"resultados/resultado-nuevos.csv\");\n",
    "df_optimos = pd.read_csv(\"optimos.csv\");\n",
    "optimos = df_optimos.set_index('instancia').T.to_dict('list')\n",
    "df_resultados.head()"
   ],
   "outputs": [
    {
     "output_type": "execute_result",
     "data": {
      "text/html": [
       "<div>\n",
       "<style scoped>\n",
       "    .dataframe tbody tr th:only-of-type {\n",
       "        vertical-align: middle;\n",
       "    }\n",
       "\n",
       "    .dataframe tbody tr th {\n",
       "        vertical-align: top;\n",
       "    }\n",
       "\n",
       "    .dataframe thead th {\n",
       "        text-align: right;\n",
       "    }\n",
       "</style>\n",
       "<table border=\"1\" class=\"dataframe\">\n",
       "  <thead>\n",
       "    <tr style=\"text-align: right;\">\n",
       "      <th></th>\n",
       "      <th>instancia</th>\n",
       "      <th>metodo</th>\n",
       "      <th>tiempo</th>\n",
       "      <th>tamaño</th>\n",
       "      <th>costo</th>\n",
       "      <th>tipo_memoria</th>\n",
       "      <th>iteraciones</th>\n",
       "      <th>T</th>\n",
       "    </tr>\n",
       "  </thead>\n",
       "  <tbody>\n",
       "    <tr>\n",
       "      <th>0</th>\n",
       "      <td>gr17</td>\n",
       "      <td>H-CG</td>\n",
       "      <td>0.014078</td>\n",
       "      <td>17</td>\n",
       "      <td>4763</td>\n",
       "      <td>NaN</td>\n",
       "      <td>NaN</td>\n",
       "      <td>NaN</td>\n",
       "    </tr>\n",
       "    <tr>\n",
       "      <th>1</th>\n",
       "      <td>a280</td>\n",
       "      <td>H-CG</td>\n",
       "      <td>1.764190</td>\n",
       "      <td>280</td>\n",
       "      <td>4150</td>\n",
       "      <td>NaN</td>\n",
       "      <td>NaN</td>\n",
       "      <td>NaN</td>\n",
       "    </tr>\n",
       "    <tr>\n",
       "      <th>2</th>\n",
       "      <td>att48</td>\n",
       "      <td>H-CG</td>\n",
       "      <td>0.083706</td>\n",
       "      <td>48</td>\n",
       "      <td>50306</td>\n",
       "      <td>NaN</td>\n",
       "      <td>NaN</td>\n",
       "      <td>NaN</td>\n",
       "    </tr>\n",
       "    <tr>\n",
       "      <th>3</th>\n",
       "      <td>bayg29</td>\n",
       "      <td>H-CG</td>\n",
       "      <td>0.035561</td>\n",
       "      <td>29</td>\n",
       "      <td>5005</td>\n",
       "      <td>NaN</td>\n",
       "      <td>NaN</td>\n",
       "      <td>NaN</td>\n",
       "    </tr>\n",
       "    <tr>\n",
       "      <th>4</th>\n",
       "      <td>bays29</td>\n",
       "      <td>H-CG</td>\n",
       "      <td>0.058206</td>\n",
       "      <td>29</td>\n",
       "      <td>6193</td>\n",
       "      <td>NaN</td>\n",
       "      <td>NaN</td>\n",
       "      <td>NaN</td>\n",
       "    </tr>\n",
       "  </tbody>\n",
       "</table>\n",
       "</div>"
      ],
      "text/plain": [
       "  instancia metodo    tiempo  tamaño  costo tipo_memoria  iteraciones   T\n",
       "0      gr17   H-CG  0.014078      17   4763          NaN          NaN NaN\n",
       "1      a280   H-CG  1.764190     280   4150          NaN          NaN NaN\n",
       "2     att48   H-CG  0.083706      48  50306          NaN          NaN NaN\n",
       "3    bayg29   H-CG  0.035561      29   5005          NaN          NaN NaN\n",
       "4    bays29   H-CG  0.058206      29   6193          NaN          NaN NaN"
      ]
     },
     "metadata": {},
     "execution_count": 81
    }
   ],
   "metadata": {}
  },
  {
   "cell_type": "markdown",
   "source": [
    "HOLIIIIS ESTAMOS EN EL TP2\n",
    "Preambulo propuesto por el sirio: mostrar gaps absolutos y relativos para goloso y AGM AISLADOS, sin compararlos\n",
    "Primer experimento: Boxplot golosa vs. AGM, basicamente copiar el grafico que esta en la diapo 11 de la clase de eval. de heuristicas (y algo para comparar tiempo tambien) (esto es para argumentar pq usamos AGM en BL)\n",
    "2do: agregar a lo que dijimos antes, los resultados de BL, para ver que mejora, y cuanto empeora en tiempo\n",
    "3er: empezar a jugueteear con los params de tabu, teniendo a BL como referencia\n",
    "\n",
    "\n",
    "NO OLVIDARSE DE LOS CASOS PATOLOGICOS (pal final)"
   ],
   "metadata": {}
  },
  {
   "cell_type": "markdown",
   "source": [
    "## Experimento 1: Golosa vs AGM"
   ],
   "metadata": {}
  },
  {
   "cell_type": "code",
   "execution_count": 82,
   "source": [
    "# Graficamos los tiempos de ejecución de cada dataset en función de n.\n",
    "bins = [-1, 20, 40, 60, 80, 100, 250, np.inf]\n",
    "labels = ['20', '40','60','80','100','250', '500']\n",
    "\n",
    "df_goloso = df_resultados[df_resultados[\"metodo\"]==\"H-CG\"].copy();\n",
    "df_agm = df_resultados[df_resultados[\"metodo\"]==\"H-AGM\"].copy();\n",
    "\n",
    "gaps_goloso = [(instancia_goloso['costo'] - optimos[instancia_goloso['instancia']][0]) / optimos[instancia_goloso['instancia']][0] * 100 for i, instancia_goloso in df_goloso.iterrows()]\n",
    "gaps_agm = [(instancia_goloso['costo'] - optimos[instancia_goloso['instancia']][0]) / optimos[instancia_goloso['instancia']][0] * 100 for i, instancia_goloso in df_agm.iterrows()]\n",
    "\n",
    "gaps_goloso = stats.trimboth(gaps_goloso, 0.05)\n",
    "gaps_agm = stats.trimboth(gaps_agm, 0.05)\n",
    "\n",
    "\n",
    "print('Mediana goloso:', np.median(gaps_goloso))\n",
    "print('Mediana AGM:', np.median(gaps_agm))\n",
    "print('Promedio goloso:',np.mean(gaps_goloso)) # Trim 10% at both ends\n",
    "print('Promedio AGM:',np.mean(gaps_agm))\n",
    "print('Varianza goloso:', np.var(gaps_goloso))\n",
    "print('Varianza AGM:', np.var(gaps_agm))\n",
    "\n",
    "#PONER EN FORMATO TABLITA DE LATEX"
   ],
   "outputs": [
    {
     "output_type": "stream",
     "name": "stdout",
     "text": [
      "Mediana goloso: 194.46348582787522\n",
      "Mediana AGM: 35.10495113103066\n",
      "Promedio goloso: 305.2520835547078\n",
      "Promedio AGM: 34.36323416935361\n",
      "Varianza goloso: 75216.93916928854\n",
      "Varianza AGM: 51.48851020395873\n"
     ]
    },
    {
     "output_type": "execute_result",
     "data": {
      "text/plain": [
       "\" fig7, ax7 = plt.subplots()\\nax7.set_title('Multiple Samples with Different sizes')\\nax7.boxplot([gaps_goloso, gaps_agm], showfliers=False)\\n\\nplt.show() \""
      ]
     },
     "metadata": {},
     "execution_count": 82
    }
   ],
   "metadata": {}
  },
  {
   "cell_type": "code",
   "execution_count": 87,
   "source": [
    "# Comparamos el dataset densidad-alta contra una función exponencial.\n",
    "df_goloso = df_resultados[(df_resultados[\"metodo\"]==\"H-CG\")].copy();\n",
    "df_agm = df_resultados[(df_resultados[\"metodo\"]==\"H-AGM\")].copy();\n",
    "df_goloso['tiempo_esperado'] = df_goloso[\"tamaño\"] ** 2 * 0.00002; # Exponencial\n",
    "df_agm['tiempo_esperado'] = df_agm[\"tamaño\"] ** 2 * 0.00011; # Exponencial\n",
    "fig = sns.scatterplot(data=df_goloso, x='tamaño', y='tiempo', color=\"green\");\n",
    "fig = sns.scatterplot(data=df_agm, x='tamaño', y='tiempo', color=\"orange\");\n",
    "fig = sns.lineplot(data=df_agm, x='tamaño', y='tiempo_esperado', color=\"orange\");\n",
    "fig = sns.lineplot(data=df_goloso, x='tamaño', y='tiempo_esperado', color=\"green\");\n",
    "fig.legend(labels=['AGM','Goloso']); # corregir esto\n",
    "fig.set(xlabel='Tamaño instancia', ylabel='tiempo (ms)');\n",
    "plt.savefig(\"graficos/AGMvsGoloso.png\")"
   ],
   "outputs": [
    {
     "output_type": "display_data",
     "data": {
      "image/png": "[encoded data removed]",
      "text/plain": [
       "<Figure size 432x288 with 1 Axes>"
      ]
     },
     "metadata": {
      "needs_background": "light"
     }
    }
   ],
   "metadata": {}
  },
  {
   "cell_type": "code",
   "execution_count": 89,
   "source": [
    "# Graficamos los tiempos de ejecución de cada dataset en función de n.\n",
    "bins = [-1, 20, 40, 60, 80, 100, 250, np.inf]\n",
    "labels = ['20', '40','60','80','100','250', '500']\n",
    "\n",
    "df_goloso = df_resultados[df_resultados[\"metodo\"]==\"H-CG\"].copy();\n",
    "df_agm = df_resultados[df_resultados[\"metodo\"]==\"H-AGM\"].copy();\n",
    "df_bl = df_resultados[df_resultados[\"metodo\"]==\"BL\"].copy();\n",
    "df_tabu = df_resultados[(df_resultados[\"metodo\"]==\"BL-Tabu\") & (df_resultados[\"T\"]==10) & (df_resultados[\"iteraciones\"]==1000)].copy();\n",
    "\n",
    "gaps_goloso = [(instancia_goloso['costo'] - optimos[instancia_goloso['instancia']][0]) / optimos[instancia_goloso['instancia']][0] * 100 for i, instancia_goloso in df_goloso.iterrows()]\n",
    "gaps_agm = [(instancia_goloso['costo'] - optimos[instancia_goloso['instancia']][0]) / optimos[instancia_goloso['instancia']][0] * 100 for i, instancia_goloso in df_agm.iterrows()]\n",
    "gaps_bl = [(instancia_goloso['costo'] - optimos[instancia_goloso['instancia']][0]) / optimos[instancia_goloso['instancia']][0] * 100 for i, instancia_goloso in df_bl.iterrows()]\n",
    "gaps_tabu = [(instancia_goloso['costo'] - optimos[instancia_goloso['instancia']][0]) / optimos[instancia_goloso['instancia']][0] * 100 for i, instancia_goloso in df_tabu.iterrows()]\n",
    "\n",
    "gaps_goloso = stats.trimboth(gaps_goloso, 0.05)\n",
    "gaps_agm = stats.trimboth(gaps_agm, 0.05)\n",
    "gaps_bl = stats.trimboth(gaps_bl, 0.05)\n",
    "gaps_tabu = stats.trimboth(gaps_tabu, 0.05)\n",
    "\n",
    "\n",
    "print('Mediana goloso:', np.median(gaps_goloso))\n",
    "print('Mediana AGM:', np.median(gaps_agm))\n",
    "print('Mediana Busqueda Local:', np.median(gaps_bl))\n",
    "print('Promedio goloso:',np.mean(gaps_goloso)) # Trim 10% at both ends\n",
    "print('Promedio AGM:',np.mean(gaps_agm))\n",
    "print('Promedio Busqueda Local:',np.mean(gaps_bl))\n",
    "print('Varianza goloso:', np.var(gaps_goloso))\n",
    "print('Varianza AGM:', np.var(gaps_agm))\n",
    "print('Varianza Busqueda Local:', np.var(gaps_bl))\n"
   ],
   "outputs": [
    {
     "output_type": "stream",
     "name": "stdout",
     "text": [
      "Mediana goloso: 194.46348582787522\n",
      "Mediana AGM: 35.10495113103066\n",
      "Mediana Busqueda Local: 23.164851915143466\n",
      "Promedio goloso: 305.2520835547078\n",
      "Promedio AGM: 34.36323416935361\n",
      "Promedio Busqueda Local: 23.036718975647812\n",
      "Promedio Busqueda Local: 17.710960563569977\n",
      "Varianza goloso: 75216.93916928854\n",
      "Varianza AGM: 51.48851020395873\n",
      "Varianza Busqueda Local: 50.609078920814945\n"
     ]
    }
   ],
   "metadata": {}
  },
  {
   "cell_type": "code",
   "execution_count": 90,
   "source": [
    "# Comparamos el dataset densidad-alta contra una función exponencial.\n",
    "df_goloso = df_resultados[(df_resultados[\"metodo\"]==\"H-CG\")].copy();\n",
    "df_agm = df_resultados[(df_resultados[\"metodo\"]==\"H-AGM\")].copy();\n",
    "df_bl = df_resultados[(df_resultados[\"metodo\"]==\"BL\")].copy();\n",
    "\n",
    "fig = sns.scatterplot(data=df_goloso, x='tamaño', y='tiempo', color=\"green\");\n",
    "fig = sns.scatterplot(data=df_agm, x='tamaño', y='tiempo', color=\"orange\");\n",
    "fig = sns.scatterplot(data=df_bl, x='tamaño', y='tiempo', color=\"blue\");\n",
    "fig.legend(labels=['Goloso','AGM', \"Busqueda Local\"]); # corregir esto\n",
    "fig.set(xlabel='Tamaño instancia', ylabel='tiempo (ms)');\n",
    "plt.savefig(\"graficos/AGMvsGolosovsBL.png\")"
   ],
   "outputs": [
    {
     "output_type": "display_data",
     "data": {
      "image/png": "[encoded data removed]",
      "text/plain": [
       "<Figure size 432x288 with 1 Axes>"
      ]
     },
     "metadata": {
      "needs_background": "light"
     }
    }
   ],
   "metadata": {}
  },
  {
   "cell_type": "code",
   "execution_count": 120,
   "source": [
    "df_tabu = df_resultados[(df_resultados[\"metodo\"]==\"BL-Tabu\")].copy();\n",
    "df_tabu['gap'] = [(instancia['costo'] - optimos[instancia['instancia']][0]) / optimos[instancia['instancia']][0] * 100 for i, instancia in df_tabu.iterrows()]\n",
    "\n",
    "Ts = df_tabu['T'];\n",
    "ciclos_means = []\n",
    "Ts = list(dict.fromkeys(Ts))\n",
    "for T in Ts:\n",
    "    ciclos_gaps = df_tabu[(df_tabu['tipo_memoria'] == \"ciclos\") & (df_tabu['T'] == T)]['gap'];\n",
    "    ciclos_means.append(np.mean(ciclos_gaps))\n",
    "\n",
    "x_pos = [i for i, _ in enumerate(Ts)]\n",
    "\n",
    "plt.bar(x_pos, ciclos_means)\n",
    "plt.xlabel(\"Tamaño memoria\")\n",
    "plt.ylim(10, 20)\n",
    "plt.ylabel(\"Gap relativo promedio\")\n",
    "plt.xticks(x_pos, Ts)\n",
    "plt.savefig(\"graficos/gapsByMemoria.png\")"
   ],
   "outputs": [
    {
     "output_type": "display_data",
     "data": {
      "image/png": "[encoded data removed]",
      "text/plain": [
       "<Figure size 432x288 with 1 Axes>"
      ]
     },
     "metadata": {
      "needs_background": "light"
     }
    }
   ],
   "metadata": {}
  },
  {
   "cell_type": "code",
   "execution_count": 123,
   "source": [
    "df_tabu = df_resultados[(df_resultados[\"metodo\"]==\"BL-Tabu\")].copy();\n",
    "df_tabu['gap'] = [(instancia['costo'] - optimos[instancia['instancia']][0]) / optimos[instancia['instancia']][0] * 100 for i, instancia in df_tabu.iterrows()]\n",
    "\n",
    "iteraciones = df_tabu['iteraciones'];\n",
    "ciclos_means = []\n",
    "iteraciones = list(dict.fromkeys(iteraciones))\n",
    "for i in iteraciones:\n",
    "    ciclos_gaps = df_tabu[(df_tabu['tipo_memoria'] == \"ciclos\") & (df_tabu['iteraciones'] == i)]['gap'];\n",
    "    ciclos_means.append(np.mean(ciclos_gaps))\n",
    "\n",
    "x_pos = [i for i, _ in enumerate(iteraciones)]\n",
    "\n",
    "plt.bar(x_pos, ciclos_means)\n",
    "plt.xlabel(\"Iteraciones\")\n",
    "plt.ylabel(\"Gap relativo promedio\")\n",
    "plt.ylim(10, 20)\n",
    "plt.xticks(x_pos, Ts)\n",
    "plt.savefig(\"graficos/gapsByIteraciones.png\")"
   ],
   "outputs": [
    {
     "output_type": "display_data",
     "data": {
      "image/png": "[encoded data removed]",
      "text/plain": [
       "<Figure size 432x288 with 1 Axes>"
      ]
     },
     "metadata": {
      "needs_background": "light"
     }
    }
   ],
   "metadata": {}
  },
  {
   "cell_type": "code",
   "execution_count": 134,
   "source": [
    "df_tabu = df_resultados[(df_resultados[\"metodo\"]==\"BL-Tabu\")].copy();\n",
    "df_tabu['gap'] = [(instancia['costo'] - optimos[instancia['instancia']][0]) / optimos[instancia['instancia']][0] * 100 for i, instancia in df_tabu.iterrows()]\n",
    "\n",
    "iteraciones = df_tabu['iteraciones'];\n",
    "Ts = df_tabu['T'];\n",
    "ciclos_means={}\n",
    "iteraciones = list(dict.fromkeys(iteraciones))\n",
    "Ts = list(dict.fromkeys(Ts))\n",
    "for i in iteraciones:\n",
    "    for j in Ts:\n",
    "        ciclos_gaps = df_tabu[(df_tabu['tipo_memoria'] == \"ciclos\") & (df_tabu['iteraciones'] == i)  & (df_tabu['T'] == j)]['gap'];\n",
    "        print(f'Iteraciones: {i} Memoria: {j} =>', np.mean(ciclos_gaps))"
   ],
   "outputs": [
    {
     "output_type": "stream",
     "name": "stdout",
     "text": [
      "Iteraciones: 100.0 Memoria: 10.0 => 17.62634049279809\n",
      "Iteraciones: 100.0 Memoria: 100.0 => 17.03678141801021\n",
      "Iteraciones: 100.0 Memoria: 1000.0 => 17.03678141801021\n",
      "Iteraciones: 500.0 Memoria: 10.0 => 17.55739062305244\n",
      "Iteraciones: 500.0 Memoria: 100.0 => 16.003401787394914\n",
      "Iteraciones: 500.0 Memoria: 1000.0 => 15.34422643568998\n",
      "Iteraciones: 1000.0 Memoria: 10.0 => 17.55739062305244\n",
      "Iteraciones: 1000.0 Memoria: 100.0 => 15.506332786222197\n",
      "Iteraciones: 1000.0 Memoria: 1000.0 => 15.036594555689073\n"
     ]
    }
   ],
   "metadata": {}
  },
  {
   "cell_type": "code",
   "execution_count": 137,
   "source": [
    "# Graficamos los tiempos de ejecución de cada dataset en función de n.\n",
    "bins = [-1, 20, 40, 60, 80, 100, 250, np.inf]\n",
    "labels = ['20', '40','60','80','100','250', '500']\n",
    "\n",
    "df_goloso = df_resultados[df_resultados[\"metodo\"]==\"H-CG\"].copy();\n",
    "df_agm = df_resultados[df_resultados[\"metodo\"]==\"H-AGM\"].copy();\n",
    "df_bl = df_resultados[df_resultados[\"metodo\"]==\"BL\"].copy();\n",
    "df_tabu = df_resultados[(df_resultados[\"metodo\"]==\"BL-Tabu\") & (df_resultados[\"T\"]==1000) & (df_resultados[\"iteraciones\"]==1000)].copy();\n",
    "\n",
    "gaps_goloso = [(instancia_goloso['costo'] - optimos[instancia_goloso['instancia']][0]) / optimos[instancia_goloso['instancia']][0] * 100 for i, instancia_goloso in df_goloso.iterrows()]\n",
    "gaps_agm = [(instancia_goloso['costo'] - optimos[instancia_goloso['instancia']][0]) / optimos[instancia_goloso['instancia']][0] * 100 for i, instancia_goloso in df_agm.iterrows()]\n",
    "gaps_bl = [(instancia_goloso['costo'] - optimos[instancia_goloso['instancia']][0]) / optimos[instancia_goloso['instancia']][0] * 100 for i, instancia_goloso in df_bl.iterrows()]\n",
    "gaps_tabu = [(instancia_goloso['costo'] - optimos[instancia_goloso['instancia']][0]) / optimos[instancia_goloso['instancia']][0] * 100 for i, instancia_goloso in df_tabu.iterrows()]\n",
    "\n",
    "gaps_goloso = stats.trimboth(gaps_goloso, 0.05)\n",
    "gaps_agm = stats.trimboth(gaps_agm, 0.05)\n",
    "gaps_bl = stats.trimboth(gaps_bl, 0.05)\n",
    "gaps_tabu = stats.trimboth(gaps_tabu, 0.05)\n",
    "\n",
    "\n",
    "print('Mediana goloso:', np.median(gaps_goloso))\n",
    "print('Mediana AGM:', np.median(gaps_agm))\n",
    "print('Mediana Busqueda Local:', np.median(gaps_bl))\n",
    "print('Mediana Tabu:', np.median(gaps_tabu))\n",
    "print('Promedio goloso:',np.mean(gaps_goloso)) # Trim 10% at both ends\n",
    "print('Promedio AGM:',np.mean(gaps_agm))\n",
    "print('Promedio Busqueda Local:',np.mean(gaps_bl))\n",
    "print('Promedio Tabu:',np.mean(gaps_tabu))\n",
    "print('Varianza goloso:', np.var(gaps_goloso))\n",
    "print('Varianza AGM:', np.var(gaps_agm))\n",
    "print('Varianza Busqueda Local:', np.var(gaps_bl))\n",
    "print('Varianza Tabu:', np.var(gaps_tabu))"
   ],
   "outputs": [
    {
     "output_type": "stream",
     "name": "stdout",
     "text": [
      "Mediana goloso: 194.46348582787522\n",
      "Mediana AGM: 35.10495113103066\n",
      "Mediana Busqueda Local: 23.164851915143466\n",
      "Mediana Tabu: 14.472049689440993\n",
      "Promedio goloso: 305.2520835547078\n",
      "Promedio AGM: 34.36323416935361\n",
      "Promedio Busqueda Local: 23.036718975647812\n",
      "Promedio Tabu: 15.012402625479648\n",
      "Varianza goloso: 75216.93916928854\n",
      "Varianza AGM: 51.48851020395873\n",
      "Varianza Busqueda Local: 50.609078920814945\n",
      "Varianza Tabu: 55.95674225093732\n"
     ]
    }
   ],
   "metadata": {}
  },
  {
   "cell_type": "code",
   "execution_count": 139,
   "source": [
    "# Comparamos el dataset densidad-alta contra una función exponencial.\n",
    "df_goloso = df_resultados[(df_resultados[\"metodo\"]==\"H-CG\")].copy();\n",
    "df_agm = df_resultados[(df_resultados[\"metodo\"]==\"H-AGM\")].copy();\n",
    "df_bl = df_resultados[(df_resultados[\"metodo\"]==\"BL\")].copy();\n",
    "df_tabu = df_resultados[(df_resultados[\"metodo\"]==\"BL-Tabu\") & (df_tabu['iteraciones'] == 1000)  & (df_tabu['T'] == 1000)].copy();\n",
    "\n",
    "fig = sns.scatterplot(data=df_goloso, x='tamaño', y='tiempo', color=\"green\");\n",
    "fig = sns.scatterplot(data=df_agm, x='tamaño', y='tiempo', color=\"orange\");\n",
    "fig = sns.scatterplot(data=df_bl, x='tamaño', y='tiempo', color=\"blue\");\n",
    "fig = sns.scatterplot(data=df_tabu, x='tamaño', y='tiempo', color=\"maroon\");\n",
    "fig.legend(labels=['Goloso','AGM', \"Busqueda Local\", \"Tabu\"]); # corregir esto\n",
    "fig.set(xlabel='Tamaño instancia', ylabel='tiempo (ms)');\n",
    "plt.savefig(\"graficos/AGMvsGolosovsBLvsTabu.png\")"
   ],
   "outputs": [
    {
     "output_type": "display_data",
     "data": {
      "image/png": "[encoded data removed]",
      "text/plain": [
       "<Figure size 432x288 with 1 Axes>"
      ]
     },
     "metadata": {
      "needs_background": "light"
     }
    }
   ],
   "metadata": {}
  }
 ],
 "metadata": {
  "interpreter": {
   "hash": "8932031cf73a8e410f3edc8e8ac179c9fba9335faf5d1d5aae65c3865f890a7e"
  },
  "kernelspec": {
   "name": "python3",
   "display_name": "Python 3.6.5 64-bit ('tp2': conda)"
  },
  "language_info": {
   "codemirror_mode": {
    "name": "ipython",
    "version": 3
   },
   "file_extension": ".py",
   "mimetype": "text/x-python",
   "name": "python",
   "nbconvert_exporter": "python",
   "pygments_lexer": "ipython3",
   "version": "3.6.5"
  }
 },
 "nbformat": 4,
 "nbformat_minor": 4
}