{
 "cells": [
  {
   "cell_type": "markdown",
   "source": [
    "# Correr experimentos\n",
    "En este archivo está el código para correr los experimentos y escribir los resultados en archivos CSV.\n",
    "> Los archivos se guardan en la carpeta _resultados_."
   ],
   "metadata": {}
  },
  {
   "cell_type": "code",
   "execution_count": 91,
   "source": [
    "import math, subprocess\n",
    "import pandas as pd\n",
    "import numpy as np\n",
    "from IPython.display import display, clear_output\n",
    "import re"
   ],
   "outputs": [],
   "metadata": {}
  },
  {
   "cell_type": "markdown",
   "source": [
    "A continuación leemos los datasets en dataframes de Pandas."
   ],
   "metadata": {}
  },
  {
   "cell_type": "code",
   "execution_count": 92,
   "source": [
    "def leer_instancia(path_instancia):\n",
    "    with open(path_instancia, \"r\") as f:\n",
    "        return f.read();\n",
    "\n",
    "df_tsplib = pd.read_csv(\"experimentos/tsplib.csv\");\n",
    "df_nuestros = pd.read_csv(\"experimentos/nuestros.csv\");\n",
    "df_mismotamanio = pd.read_csv(\"experimentos/mismo_tamanio.csv\");"
   ],
   "outputs": [],
   "metadata": {}
  },
  {
   "cell_type": "code",
   "execution_count": 93,
   "source": [
    "def correr_experimento(*args):\n",
    "    # Crear proceso para ejecutar el codigo.\n",
    "    process = subprocess.Popen([\"../main\", *args], stderr=subprocess.PIPE, stdout=subprocess.PIPE, stdin=subprocess.PIPE, universal_newlines = True)\n",
    "\n",
    "    # Correr experimento.\n",
    "    exit_code = process.wait()\n",
    "\n",
    "    # Verificar que el proceso no fallo.\n",
    "    if exit_code != 0: raise(F\"Hubo un error en la experimentacion para el algoritmo: {args}.\")\n",
    "    # Leer salida de STDERR con los tiempos de ejecucion de cada metodo.\n",
    "    tiempo_de_ejecucion = float(process.stderr.read());\n",
    "    [tamanio, costo_resultado] = process.stdout.read().split('\\n')[0].split(\" \");\n",
    "\n",
    "    process.stdin.close();\n",
    "    process.stdout.close();\n",
    "    process.stderr.close();\n",
    "    \n",
    "    return [tiempo_de_ejecucion, tamanio, costo_resultado];"
   ],
   "outputs": [],
   "metadata": {}
  },
  {
   "cell_type": "markdown",
   "source": [
    "## Corremos los experimentos\n",
    "Vamos a guardar una tabla con las ejecuciones y sus respectivos tiempos."
   ],
   "metadata": {}
  },
  {
   "cell_type": "code",
   "execution_count": 106,
   "source": [
    "experimentos = [];"
   ],
   "outputs": [],
   "metadata": {}
  },
  {
   "cell_type": "markdown",
   "source": [
    "## Experimento 1\n",
    "Correr Heurisitica Golosa sobre todas las instancias de tsplib."
   ],
   "metadata": {}
  },
  {
   "cell_type": "code",
   "execution_count": 52,
   "source": [
    "for index, row in df_tsplib.iterrows():\n",
    "    experimentos.append([row[\"instancia\"], row[\"ruta_instancia\"], \"H-CG\"]);"
   ],
   "outputs": [],
   "metadata": {}
  },
  {
   "cell_type": "code",
   "execution_count": 95,
   "source": [
    "for index, row in df_nuestros.iterrows():\n",
    "    experimentos.append([row[\"instancia\"], row[\"ruta_instancia\"], \"H-CG\"]);"
   ],
   "outputs": [],
   "metadata": {}
  },
  {
   "cell_type": "code",
   "execution_count": 107,
   "source": [
    "for index, row in df_mismotamanio.iterrows():\n",
    "    experimentos.append([row[\"instancia\"], row[\"ruta_instancia\"], \"H-CG\"]);"
   ],
   "outputs": [],
   "metadata": {}
  },
  {
   "cell_type": "markdown",
   "source": [
    "## Experimento 2\n",
    "Correr Heurisitica AGM sobre todas las instancias de tsplib."
   ],
   "metadata": {}
  },
  {
   "cell_type": "code",
   "execution_count": 53,
   "source": [
    "for index, row in df_tsplib.iterrows():\n",
    "    experimentos.append([row[\"instancia\"], row[\"ruta_instancia\"], \"H-AGM\"]);"
   ],
   "outputs": [],
   "metadata": {}
  },
  {
   "cell_type": "code",
   "execution_count": 96,
   "source": [
    "for index, row in df_nuestros.iterrows():\n",
    "    experimentos.append([row[\"instancia\"], row[\"ruta_instancia\"], \"H-AGM\"]);"
   ],
   "outputs": [],
   "metadata": {}
  },
  {
   "cell_type": "code",
   "execution_count": 108,
   "source": [
    "for index, row in df_mismotamanio.iterrows():\n",
    "    experimentos.append([row[\"instancia\"], row[\"ruta_instancia\"], \"H-AGM\"]);"
   ],
   "outputs": [],
   "metadata": {}
  },
  {
   "cell_type": "markdown",
   "source": [
    "## Experimento 3\n",
    "Correr Busqueda Local sobre todas las instancias de tsplib."
   ],
   "metadata": {}
  },
  {
   "cell_type": "code",
   "execution_count": 54,
   "source": [
    "for index, row in df_tsplib.iterrows():\n",
    "    experimentos.append([row[\"instancia\"], row[\"ruta_instancia\"], \"BL\"]);"
   ],
   "outputs": [],
   "metadata": {}
  },
  {
   "cell_type": "code",
   "execution_count": 97,
   "source": [
    "for index, row in df_nuestros.iterrows():\n",
    "    experimentos.append([row[\"instancia\"], row[\"ruta_instancia\"], \"BL\"]);"
   ],
   "outputs": [],
   "metadata": {}
  },
  {
   "cell_type": "code",
   "execution_count": 109,
   "source": [
    "for index, row in df_mismotamanio.iterrows():\n",
    "    experimentos.append([row[\"instancia\"], row[\"ruta_instancia\"], \"BL\"]);"
   ],
   "outputs": [],
   "metadata": {}
  },
  {
   "cell_type": "markdown",
   "source": [
    "## Experimento 4\n",
    "Correr Tabu Search sobre todas las instancias de tsplib."
   ],
   "metadata": {}
  },
  {
   "cell_type": "code",
   "execution_count": 55,
   "source": [
    "for tipo_memoria in ['ciclos']:\n",
    "    for T in [10, 100, 1000]:\n",
    "        for iteraciones in [100, 500, 1000]:\n",
    "            for index, row in df_tsplib.iterrows():\n",
    "                if (int(re.findall(r'\\d+', row[\"instancia\"])[0]) > 100): continue\n",
    "                experimentos.append([row[\"instancia\"], row[\"ruta_instancia\"], \"BL-Tabu\", tipo_memoria, str(iteraciones), str(T)])"
   ],
   "outputs": [],
   "metadata": {}
  },
  {
   "cell_type": "code",
   "execution_count": 98,
   "source": [
    "for index, row in df_nuestros.iterrows():\n",
    "    experimentos.append([row[\"instancia\"], row[\"ruta_instancia\"], \"BL-Tabu\", \"ciclos\", str(1000), str(1000)])"
   ],
   "outputs": [],
   "metadata": {}
  },
  {
   "cell_type": "code",
   "execution_count": 110,
   "source": [
    "for index, row in df_mismotamanio.iterrows():\n",
    "    experimentos.append([row[\"instancia\"], row[\"ruta_instancia\"], \"BL-Tabu\", \"ciclos\", str(1000), str(1000)]);"
   ],
   "outputs": [],
   "metadata": {}
  },
  {
   "cell_type": "markdown",
   "source": [
    "## Ejecutar los experimentos y guardar los resultados en un archivo CSV.\n",
    "Este paso puede tardar unos minutos hasta terminar de ejecutarse."
   ],
   "metadata": {}
  },
  {
   "cell_type": "code",
   "execution_count": 111,
   "source": [
    "columnas = [\"instancia\", \"metodo\", \"tiempo\", 'tamaño', 'costo', 'tipo_memoria', 'iteraciones', 'T'];\n",
    "filas = [];\n",
    "numero = 1\n",
    "T = 5 # Numero de veces que se ejecuta cada experimento (para mayor fidelidad del tiempo).\n",
    "for experimento in experimentos:\n",
    "    # Voy mostrando que experimento se esta ejecutando.\n",
    "    clear_output(wait=True)\n",
    "    display('Experimento: ' + str(numero) + \"/\" + str(len(experimentos)))\n",
    "    numero += 1\n",
    "    \n",
    "    # Ejecutamos el experimento T veces y obtenemos la mediana.\n",
    "    tiempos = []\n",
    "    tamanio_instancia = 0\n",
    "    costo_resultado = 0\n",
    "    T = 5 if experimento[2] == 'BL-Tabu' else 5\n",
    "    for i in range(0, T):\n",
    "        [tiempo, tamanio, costo] = correr_experimento(experimento[2], experimento[1], *experimento[3:])\n",
    "        tiempos.append(tiempo);\n",
    "        tamanio_instancia = tamanio\n",
    "        costo_resultado = costo\n",
    "    tiempo = np.median(tiempos);\n",
    "    if len(experimento) == 3:\n",
    "        experimento.append(None)\n",
    "        experimento.append(None)\n",
    "        experimento.append(None)\n",
    "    filas.append([experimento[0], experimento[2], tiempo, tamanio, costo, *experimento[3:]]);\n",
    "    print([experimento[0], experimento[2], tiempo, tamanio, costo, *experimento[3:]])\n",
    "    df_resultado = pd.DataFrame(filas, columns=columnas);\n",
    "    df_resultado.to_csv(\"resultados/resultado-fijos.csv\", index=False, header=True);\n"
   ],
   "outputs": [
    {
     "output_type": "display_data",
     "data": {
      "text/plain": [
       "'Experimento: 396/396'"
      ]
     },
     "metadata": {}
    },
    {
     "output_type": "stream",
     "name": "stdout",
     "text": [
      "[50, 'BL-Tabu', 2242.55, '50', '335', 'ciclos', '1000', '1000']\n"
     ]
    }
   ],
   "metadata": {}
  }
 ],
 "metadata": {
  "interpreter": {
   "hash": "8932031cf73a8e410f3edc8e8ac179c9fba9335faf5d1d5aae65c3865f890a7e"
  },
  "kernelspec": {
   "name": "python3",
   "display_name": "Python 3.6.5 64-bit ('tp2': conda)"
  },
  "language_info": {
   "codemirror_mode": {
    "name": "ipython",
    "version": 3
   },
   "file_extension": ".py",
   "mimetype": "text/x-python",
   "name": "python",
   "nbconvert_exporter": "python",
   "pygments_lexer": "ipython3",
   "version": "3.6.5"
  }
 },
 "nbformat": 4,
 "nbformat_minor": 4
}