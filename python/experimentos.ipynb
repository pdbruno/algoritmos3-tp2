{
 "cells": [
  {
   "cell_type": "markdown",
   "metadata": {},
   "source": [
    "# Correr experimentos\n",
    "En este archivo está el código para correr los experimentos y escribir los resultados en archivos CSV.\n",
    "> Los archivos se guardan en la carpeta _resultados_."
   ]
  },
  {
   "cell_type": "code",
   "execution_count": 1,
   "metadata": {},
   "outputs": [],
   "source": [
    "import math, subprocess\n",
    "import pandas as pd\n",
    "import numpy as np\n",
    "from IPython.display import display, clear_output"
   ]
  },
  {
   "cell_type": "markdown",
   "metadata": {},
   "source": [
    "A continuación leemos los datasets en dataframes de Pandas."
   ]
  },
  {
   "cell_type": "code",
   "execution_count": 2,
   "metadata": {},
   "outputs": [],
   "source": [
    "def leer_instancia(path_instancia):\n",
    "    with open(path_instancia, \"r\") as f:\n",
    "        return f.read();\n",
    "\n",
    "df_tsplib = pd.read_csv(\"experimentos/tsplib.csv\");"
   ]
  },
  {
   "cell_type": "markdown",
   "metadata": {},
   "source": [
    "La siguiente función sirve para correr el código sobre una instancia ejecutando un método en particular.\n",
    "- FB: Fuerza bruta\n",
    "- BT: Backtracking con ambas podas.\n",
    "- BT-F: Backtracking solamente con poda por factibilidad.\n",
    "- BT-O: Backtracking solamente con poda por optimalidad.\n",
    "- DP: Programación dinámica."
   ]
  },
  {
   "cell_type": "code",
   "execution_count": 3,
   "metadata": {},
   "outputs": [],
   "source": [
    "def correr_experimento(*args):\n",
    "    print(args)\n",
    "    # Crear proceso para ejecutar el codigo.\n",
    "    process = subprocess.Popen([\"../main\", *args], stderr=subprocess.PIPE, stdout=subprocess.PIPE, stdin=subprocess.PIPE, universal_newlines = True)\n",
    "\n",
    "    # Correr experimento.\n",
    "    exit_code = process.wait()\n",
    "\n",
    "    # Verificar que el proceso no fallo.\n",
    "    if exit_code != 0: raise(F\"Hubo un error en la experimentacion para el algoritmo: {args}.\")\n",
    "    # Leer salida de STDERR con los tiempos de ejecucion de cada metodo.\n",
    "    tiempo_de_ejecucion = float(process.stderr.read());\n",
    "    [tamanio, costo_resultado] = process.stdout.read().split('\\n')[0].split(\" \");\n",
    "\n",
    "    process.stdin.close();\n",
    "    process.stdout.close();\n",
    "    process.stderr.close();\n",
    "    \n",
    "    return [tiempo_de_ejecucion, tamanio, costo_resultado];"
   ]
  },
  {
   "cell_type": "markdown",
   "metadata": {},
   "source": [
    "## Corremos los experimentos\n",
    "Vamos a guardar una tabla con las ejecuciones y sus respectivos tiempos."
   ]
  },
  {
   "cell_type": "code",
   "execution_count": 13,
   "metadata": {},
   "outputs": [],
   "source": [
    "experimentos = [];"
   ]
  },
  {
   "cell_type": "markdown",
   "metadata": {},
   "source": [
    "## Experimento 1\n",
    "Correr Heurisitica Golosa sobre todas las instancias de tsplib."
   ]
  },
  {
   "cell_type": "code",
   "execution_count": 5,
   "metadata": {},
   "outputs": [],
   "source": [
    "for index, row in df_tsplib.iterrows():\n",
    "    experimentos.append([row[\"instancia\"], row[\"ruta_instancia\"], \"H-CG\"]);"
   ]
  },
  {
   "cell_type": "markdown",
   "metadata": {},
   "source": [
    "## Experimento 2\n",
    "Correr Heurisitica AGM sobre todas las instancias de tsplib."
   ]
  },
  {
   "cell_type": "code",
   "execution_count": 6,
   "metadata": {},
   "outputs": [],
   "source": [
    "for index, row in df_tsplib.iterrows():\n",
    "    experimentos.append([row[\"instancia\"], row[\"ruta_instancia\"], \"H-AGM\"]);"
   ]
  },
  {
   "cell_type": "markdown",
   "metadata": {},
   "source": [
    "## Experimento 3\n",
    "Correr Busqueda Local sobre todas las instancias de tsplib."
   ]
  },
  {
   "cell_type": "code",
   "execution_count": 7,
   "metadata": {},
   "outputs": [],
   "source": [
    "for index, row in df_tsplib.iterrows():\n",
    "    experimentos.append([row[\"instancia\"], row[\"ruta_instancia\"], \"BL\"]);"
   ]
  },
  {
   "cell_type": "markdown",
   "metadata": {},
   "source": [
    "## Experimento 4\n",
    "Correr Tabu Search sobre todas las instancias de tsplib."
   ]
  },
  {
   "cell_type": "code",
   "execution_count": 14,
   "metadata": {},
   "outputs": [],
   "source": [
    "for tipo_memoria in ['aristas', 'ciclos']:\n",
    "    for T in range(3, 50, 3):\n",
    "        for iteraciones in range(10000, 100000, 10000):\n",
    "            for index, row in df_tsplib.iterrows():\n",
    "                experimentos.append([row[\"instancia\"], row[\"ruta_instancia\"], \"BL-Tabu\", tipo_memoria, str(iteraciones), str(T)])"
   ]
  },
  {
   "cell_type": "markdown",
   "metadata": {},
   "source": [
    "## Ejecutar los experimentos y guardar los resultados en un archivo CSV.\n",
    "Este paso puede tardar unos minutos hasta terminar de ejecutarse."
   ]
  },
  {
   "cell_type": "code",
   "execution_count": 15,
   "metadata": {},
   "outputs": [
    {
     "data": {
      "text/plain": [
       "'Experimento: 8448/8448'"
      ]
     },
     "metadata": {},
     "output_type": "display_data"
    },
    {
     "name": "stdout",
     "output_type": "stream",
     "text": [
      "('BL-Tabu', '../instancias/parseadas/ulysses22.txt', 'ciclos', '90000', '48')\n",
      "['ulysses22', 'BL-Tabu', 6.23911, '22', '8809', 'ciclos', '90000', '48']\n"
     ]
    }
   ],
   "source": [
    "columnas = [\"instancia\", \"metodo\", \"tiempo\", 'tamaño', 'costo', 'tipo_memoria', 'iteraciones', 'T'];\n",
    "filas = [];\n",
    "numero = 1\n",
    "T = 5 # Numero de veces que se ejecuta cada experimento (para mayor fidelidad del tiempo).\n",
    "for experimento in experimentos:\n",
    "    # Voy mostrando que experimento se esta ejecutando.\n",
    "    clear_output(wait=True)\n",
    "    display('Experimento: ' + str(numero) + \"/\" + str(len(experimentos)))\n",
    "    numero += 1\n",
    "    \n",
    "    # Ejecutamos el experimento T veces y obtenemos la mediana.\n",
    "    tiempos = []\n",
    "    tamanio_instancia = 0\n",
    "    costo_resultado = 0\n",
    "    T = 1 if experimento[2] == 'BL-Tabu' else 5\n",
    "    for i in range(0, T):\n",
    "        [tiempo, tamanio, costo] = correr_experimento(experimento[2], experimento[1], *experimento[3:])\n",
    "        tiempos.append(tiempo);\n",
    "        tamanio_instancia = tamanio\n",
    "        costo_resultado = costo\n",
    "    tiempo = np.median(tiempos);\n",
    "    if len(experimento) == 3:\n",
    "        experimento.append(None)\n",
    "        experimento.append(None)\n",
    "        experimento.append(None)\n",
    "    filas.append([experimento[0], experimento[2], tiempo, tamanio, costo, *experimento[3:]]);\n",
    "    print([experimento[0], experimento[2], tiempo, tamanio, costo, *experimento[3:]])\n",
    "    df_resultado = pd.DataFrame(filas, columns=columnas);\n",
    "    df_resultado.to_csv(\"resultados/resultado-continuacion.csv\", index=False, header=True);\n"
   ]
  }
 ],
 "metadata": {
  "interpreter": {
   "hash": "767d51c1340bd893661ea55ea3124f6de3c7a262a8b4abca0554b478b1e2ff90"
  },
  "kernelspec": {
   "display_name": "Python 3.8.10 64-bit",
   "name": "python3"
  },
  "language_info": {
   "codemirror_mode": {
    "name": "ipython",
    "version": 3
   },
   "file_extension": ".py",
   "mimetype": "text/x-python",
   "name": "python",
   "nbconvert_exporter": "python",
   "pygments_lexer": "ipython3",
   "version": "3.8.10"
  }
 },
 "nbformat": 4,
 "nbformat_minor": 4
}
